{
 "cells": [
  {
   "cell_type": "code",
   "execution_count": 6,
   "id": "d8d0fa2a",
   "metadata": {},
   "outputs": [],
   "source": [
    "import numpy as np\n",
    "import pandas as pd"
   ]
  },
  {
   "cell_type": "code",
   "execution_count": 240,
   "id": "af9b89cd",
   "metadata": {},
   "outputs": [],
   "source": [
    "with open(\"tb.xyz\") as f:\n",
    "    df = pd.DataFrame([line.strip().split() for line in f.readlines()])\n",
    "    headers = [f\"Col{i}\" for i in range(1, 5)]\n",
    "    df.to_csv(\"tb.csv\", index=False, header=headers)"
   ]
  },
  {
   "cell_type": "code",
   "execution_count": 241,
   "id": "2958cbbf",
   "metadata": {},
   "outputs": [],
   "source": [
    "a = pd.read_csv(\"tb.csv\")"
   ]
  },
  {
   "cell_type": "code",
   "execution_count": 257,
   "id": "d2d8d186",
   "metadata": {},
   "outputs": [],
   "source": [
    "#Enter the number of rings: n_rings\n",
    "n_rings=2\n",
    "a.iloc[0,0]=int(a.iloc[0,0])+n_rings"
   ]
  },
  {
   "cell_type": "code",
   "execution_count": 258,
   "id": "7f14a159",
   "metadata": {},
   "outputs": [],
   "source": [
    "#enter the atom numbers of the ring\n",
    "#d is for the first ring\n",
    "\n",
    "d=[61,65,69,57,73]\n",
    "\n",
    "#d1 is for the first ring\n",
    "\n",
    "d1=[9,13,17,1,5]"
   ]
  },
  {
   "cell_type": "code",
   "execution_count": 259,
   "id": "b1d86cf6",
   "metadata": {},
   "outputs": [
    {
     "data": {
      "text/html": [
       "<div>\n",
       "<style scoped>\n",
       "    .dataframe tbody tr th:only-of-type {\n",
       "        vertical-align: middle;\n",
       "    }\n",
       "\n",
       "    .dataframe tbody tr th {\n",
       "        vertical-align: top;\n",
       "    }\n",
       "\n",
       "    .dataframe thead th {\n",
       "        text-align: right;\n",
       "    }\n",
       "</style>\n",
       "<table border=\"1\" class=\"dataframe\">\n",
       "  <thead>\n",
       "    <tr style=\"text-align: right;\">\n",
       "      <th></th>\n",
       "      <th>Col1</th>\n",
       "      <th>Col2</th>\n",
       "      <th>Col3</th>\n",
       "      <th>Col4</th>\n",
       "    </tr>\n",
       "  </thead>\n",
       "  <tbody>\n",
       "    <tr>\n",
       "      <th>0</th>\n",
       "      <td>113</td>\n",
       "      <td>NaN</td>\n",
       "      <td>NaN</td>\n",
       "      <td>NaN</td>\n",
       "    </tr>\n",
       "    <tr>\n",
       "      <th>1</th>\n",
       "      <td>Energy</td>\n",
       "      <td>=</td>\n",
       "      <td>NaN</td>\n",
       "      <td>NaN</td>\n",
       "    </tr>\n",
       "    <tr>\n",
       "      <th>2</th>\n",
       "      <td>C</td>\n",
       "      <td>-0.1379326</td>\n",
       "      <td>1.214727</td>\n",
       "      <td>2.484947</td>\n",
       "    </tr>\n",
       "    <tr>\n",
       "      <th>3</th>\n",
       "      <td>C</td>\n",
       "      <td>-0.3522967</td>\n",
       "      <td>2.719048</td>\n",
       "      <td>2.655965</td>\n",
       "    </tr>\n",
       "    <tr>\n",
       "      <th>4</th>\n",
       "      <td>C</td>\n",
       "      <td>0.0718016</td>\n",
       "      <td>3.222034</td>\n",
       "      <td>4.056233</td>\n",
       "    </tr>\n",
       "    <tr>\n",
       "      <th>...</th>\n",
       "      <td>...</td>\n",
       "      <td>...</td>\n",
       "      <td>...</td>\n",
       "      <td>...</td>\n",
       "    </tr>\n",
       "    <tr>\n",
       "      <th>108</th>\n",
       "      <td>H</td>\n",
       "      <td>-2.3598303</td>\n",
       "      <td>-1.160802</td>\n",
       "      <td>-4.861619</td>\n",
       "    </tr>\n",
       "    <tr>\n",
       "      <th>109</th>\n",
       "      <td>H</td>\n",
       "      <td>-3.4092242</td>\n",
       "      <td>0.122338</td>\n",
       "      <td>-4.194280</td>\n",
       "    </tr>\n",
       "    <tr>\n",
       "      <th>110</th>\n",
       "      <td>H</td>\n",
       "      <td>-4.3834269</td>\n",
       "      <td>-1.533681</td>\n",
       "      <td>-1.630043</td>\n",
       "    </tr>\n",
       "    <tr>\n",
       "      <th>111</th>\n",
       "      <td>H</td>\n",
       "      <td>-3.0408908</td>\n",
       "      <td>-1.045329</td>\n",
       "      <td>-0.553646</td>\n",
       "    </tr>\n",
       "    <tr>\n",
       "      <th>112</th>\n",
       "      <td>H</td>\n",
       "      <td>-3.8533822</td>\n",
       "      <td>0.172155</td>\n",
       "      <td>-1.576443</td>\n",
       "    </tr>\n",
       "  </tbody>\n",
       "</table>\n",
       "<p>113 rows × 4 columns</p>\n",
       "</div>"
      ],
      "text/plain": [
       "       Col1        Col2      Col3      Col4\n",
       "0       113         NaN       NaN       NaN\n",
       "1    Energy           =       NaN       NaN\n",
       "2         C  -0.1379326  1.214727  2.484947\n",
       "3         C  -0.3522967  2.719048  2.655965\n",
       "4         C   0.0718016  3.222034  4.056233\n",
       "..      ...         ...       ...       ...\n",
       "108       H  -2.3598303 -1.160802 -4.861619\n",
       "109       H  -3.4092242  0.122338 -4.194280\n",
       "110       H  -4.3834269 -1.533681 -1.630043\n",
       "111       H  -3.0408908 -1.045329 -0.553646\n",
       "112       H  -3.8533822  0.172155 -1.576443\n",
       "\n",
       "[113 rows x 4 columns]"
      ]
     },
     "execution_count": 259,
     "metadata": {},
     "output_type": "execute_result"
    }
   ],
   "source": [
    "a"
   ]
  },
  {
   "cell_type": "code",
   "execution_count": 260,
   "id": "25029b10",
   "metadata": {},
   "outputs": [],
   "source": [
    "b=np.array(a.iloc[2:,1:4])\n",
    "c=[]"
   ]
  },
  {
   "cell_type": "code",
   "execution_count": 261,
   "id": "9fb389d9",
   "metadata": {},
   "outputs": [],
   "source": [
    "c=[]\n",
    "for i in range(len(b)):\n",
    "    #if i!=0 and i!=1:\n",
    "        for j in range(len(d)):\n",
    "            if i==d[j]:\n",
    "                c.append(b[i])\n",
    "                #print (b[i])"
   ]
  },
  {
   "cell_type": "code",
   "execution_count": 262,
   "id": "5ede652a",
   "metadata": {},
   "outputs": [],
   "source": [
    "h=np.array(c)\n",
    "e=[]"
   ]
  },
  {
   "cell_type": "code",
   "execution_count": 263,
   "id": "5ec3dc30",
   "metadata": {},
   "outputs": [],
   "source": [
    "h=h.astype('float')"
   ]
  },
  {
   "cell_type": "code",
   "execution_count": 264,
   "id": "3261e69d",
   "metadata": {},
   "outputs": [],
   "source": [
    "x_avg = np.average(h[:,0])\n",
    "y_avg = np.average(h[:,1])\n",
    "z_avg = np.average(h[:,2])\n",
    "e = [x_avg,y_avg,z_avg]\n",
    "#f = np.array(e)\n",
    "e.insert(0, 'B')"
   ]
  },
  {
   "cell_type": "code",
   "execution_count": 266,
   "id": "ad6f8590",
   "metadata": {},
   "outputs": [
    {
     "name": "stderr",
     "output_type": "stream",
     "text": [
      "/tmp/ipykernel_416971/1359001237.py:2: FutureWarning: The frame.append method is deprecated and will be removed from pandas in a future version. Use pandas.concat instead.\n",
      "  df2 = a.append(pd.DataFrame([e],index=['113'],columns=a.columns))\n"
     ]
    }
   ],
   "source": [
    "df2=[]\n",
    "df2 = a.append(pd.DataFrame([e],index=['113'],columns=a.columns))\n",
    "#print(df2)"
   ]
  },
  {
   "cell_type": "code",
   "execution_count": 267,
   "id": "6824fd1e",
   "metadata": {},
   "outputs": [],
   "source": [
    "c1=[]\n",
    "for i in range(len(b)):\n",
    "    #if i!=0:\n",
    "        for j in range(len(d1)):\n",
    "            if i==d1[j]:\n",
    "                c1.append(b[i])\n",
    "                #print (b[i])"
   ]
  },
  {
   "cell_type": "code",
   "execution_count": 268,
   "id": "ffe30e8d",
   "metadata": {},
   "outputs": [],
   "source": [
    "h1=np.array(c1)\n",
    "e1=[]\n",
    "h1=h1.astype('float')\n",
    "x1_avg = np.average(h1[:,0])\n",
    "y1_avg = np.average(h1[:,1])\n",
    "z1_avg = np.average(h1[:,2])\n",
    "e1 = [x1_avg,y1_avg,z1_avg]\n",
    "#f = np.array(e)\n",
    "e1.insert(0, 'B')"
   ]
  },
  {
   "cell_type": "code",
   "execution_count": 269,
   "id": "3fac0822",
   "metadata": {},
   "outputs": [],
   "source": [
    "#e1"
   ]
  },
  {
   "cell_type": "code",
   "execution_count": 270,
   "id": "7a08a05b",
   "metadata": {},
   "outputs": [
    {
     "name": "stderr",
     "output_type": "stream",
     "text": [
      "/tmp/ipykernel_416971/3617181993.py:1: FutureWarning: The frame.append method is deprecated and will be removed from pandas in a future version. Use pandas.concat instead.\n",
      "  df3 = df2.append(pd.DataFrame([e1],index=['114'],columns=df2.columns))\n"
     ]
    }
   ],
   "source": [
    "df3 = df2.append(pd.DataFrame([e1],index=['114'],columns=df2.columns))\n",
    "#print(df3)"
   ]
  },
  {
   "cell_type": "code",
   "execution_count": 271,
   "id": "5fefc290",
   "metadata": {},
   "outputs": [],
   "source": [
    "np.savetxt(\"tb.xyz\", df3,fmt = '%s')"
   ]
  },
  {
   "cell_type": "code",
   "execution_count": 277,
   "id": "8e9d46c1",
   "metadata": {},
   "outputs": [
    {
     "data": {
      "text/html": [
       "<div>\n",
       "<style scoped>\n",
       "    .dataframe tbody tr th:only-of-type {\n",
       "        vertical-align: middle;\n",
       "    }\n",
       "\n",
       "    .dataframe tbody tr th {\n",
       "        vertical-align: top;\n",
       "    }\n",
       "\n",
       "    .dataframe thead th {\n",
       "        text-align: right;\n",
       "    }\n",
       "</style>\n",
       "<table border=\"1\" class=\"dataframe\">\n",
       "  <thead>\n",
       "    <tr style=\"text-align: right;\">\n",
       "      <th></th>\n",
       "      <th>Col1</th>\n",
       "      <th>Col2</th>\n",
       "      <th>Col3</th>\n",
       "      <th>Col4</th>\n",
       "    </tr>\n",
       "  </thead>\n",
       "  <tbody>\n",
       "    <tr>\n",
       "      <th>0</th>\n",
       "      <td>113</td>\n",
       "      <td>NaN</td>\n",
       "      <td>NaN</td>\n",
       "      <td>NaN</td>\n",
       "    </tr>\n",
       "    <tr>\n",
       "      <th>1</th>\n",
       "      <td>Energy</td>\n",
       "      <td>=</td>\n",
       "      <td>NaN</td>\n",
       "      <td>NaN</td>\n",
       "    </tr>\n",
       "    <tr>\n",
       "      <th>2</th>\n",
       "      <td>C</td>\n",
       "      <td>-0.1379326</td>\n",
       "      <td>1.214727</td>\n",
       "      <td>2.484947</td>\n",
       "    </tr>\n",
       "    <tr>\n",
       "      <th>3</th>\n",
       "      <td>C</td>\n",
       "      <td>-0.3522967</td>\n",
       "      <td>2.719048</td>\n",
       "      <td>2.655965</td>\n",
       "    </tr>\n",
       "    <tr>\n",
       "      <th>4</th>\n",
       "      <td>C</td>\n",
       "      <td>0.0718016</td>\n",
       "      <td>3.222034</td>\n",
       "      <td>4.056233</td>\n",
       "    </tr>\n",
       "    <tr>\n",
       "      <th>...</th>\n",
       "      <td>...</td>\n",
       "      <td>...</td>\n",
       "      <td>...</td>\n",
       "      <td>...</td>\n",
       "    </tr>\n",
       "    <tr>\n",
       "      <th>110</th>\n",
       "      <td>H</td>\n",
       "      <td>-4.3834269</td>\n",
       "      <td>-1.533681</td>\n",
       "      <td>-1.630043</td>\n",
       "    </tr>\n",
       "    <tr>\n",
       "      <th>111</th>\n",
       "      <td>H</td>\n",
       "      <td>-3.0408908</td>\n",
       "      <td>-1.045329</td>\n",
       "      <td>-0.553646</td>\n",
       "    </tr>\n",
       "    <tr>\n",
       "      <th>112</th>\n",
       "      <td>H</td>\n",
       "      <td>-3.8533822</td>\n",
       "      <td>0.172155</td>\n",
       "      <td>-1.576443</td>\n",
       "    </tr>\n",
       "    <tr>\n",
       "      <th>113</th>\n",
       "      <td>B</td>\n",
       "      <td>-0.003675</td>\n",
       "      <td>0.000254</td>\n",
       "      <td>-2.664224</td>\n",
       "    </tr>\n",
       "    <tr>\n",
       "      <th>114</th>\n",
       "      <td>B</td>\n",
       "      <td>0.003714</td>\n",
       "      <td>-0.000214</td>\n",
       "      <td>2.662978</td>\n",
       "    </tr>\n",
       "  </tbody>\n",
       "</table>\n",
       "<p>115 rows × 4 columns</p>\n",
       "</div>"
      ],
      "text/plain": [
       "       Col1        Col2      Col3      Col4\n",
       "0       113         NaN       NaN       NaN\n",
       "1    Energy           =       NaN       NaN\n",
       "2         C  -0.1379326  1.214727  2.484947\n",
       "3         C  -0.3522967  2.719048  2.655965\n",
       "4         C   0.0718016  3.222034  4.056233\n",
       "..      ...         ...       ...       ...\n",
       "110       H  -4.3834269 -1.533681 -1.630043\n",
       "111       H  -3.0408908 -1.045329 -0.553646\n",
       "112       H  -3.8533822  0.172155 -1.576443\n",
       "113       B   -0.003675  0.000254 -2.664224\n",
       "114       B    0.003714 -0.000214  2.662978\n",
       "\n",
       "[115 rows x 4 columns]"
      ]
     },
     "execution_count": 277,
     "metadata": {},
     "output_type": "execute_result"
    }
   ],
   "source": [
    "df3"
   ]
  },
  {
   "cell_type": "code",
   "execution_count": null,
   "id": "812a9f33",
   "metadata": {},
   "outputs": [],
   "source": []
  }
 ],
 "metadata": {
  "kernelspec": {
   "display_name": "Python 3 (ipykernel)",
   "language": "python",
   "name": "python3"
  },
  "language_info": {
   "codemirror_mode": {
    "name": "ipython",
    "version": 3
   },
   "file_extension": ".py",
   "mimetype": "text/x-python",
   "name": "python",
   "nbconvert_exporter": "python",
   "pygments_lexer": "ipython3",
   "version": "3.9.12"
  }
 },
 "nbformat": 4,
 "nbformat_minor": 5
}
